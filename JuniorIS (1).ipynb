{
  "nbformat": 4,
  "nbformat_minor": 0,
  "metadata": {
    "colab": {
      "provenance": []
    },
    "kernelspec": {
      "name": "python3",
      "display_name": "Python 3"
    },
    "language_info": {
      "name": "python"
    }
  },
  "cells": [
    {
      "cell_type": "markdown",
      "source": [
        "# Importing necessary libraries and dependencies\n"
      ],
      "metadata": {
        "id": "PCK8aAqpAh40"
      }
    },
    {
      "cell_type": "code",
      "execution_count": 1,
      "metadata": {
        "id": "t8on0Dwkl-6W"
      },
      "outputs": [],
      "source": [
        "from tensorflow.python.ops.control_flow_ops import case_v2\n",
        "from IPython.lib.display import isfile\n",
        "import numpy as np\n",
        "import os\n",
        "from google.colab.patches import cv2_imshow\n",
        "import cv2\n",
        "import matplotlib as plt\n",
        "import tensorflow as tf"
      ]
    },
    {
      "cell_type": "markdown",
      "source": [
        "### Since I was using Google Colab, it was conviniet for me to upload the dataset in my drive and use it's directory to import it in this program"
      ],
      "metadata": {
        "id": "ilFocbgSGwAh"
      }
    },
    {
      "cell_type": "code",
      "source": [
        "from google.colab import drive\n",
        "drive.mount('/content/drive')"
      ],
      "metadata": {
        "colab": {
          "base_uri": "https://localhost:8080/"
        },
        "id": "09qqq-yniPdf",
        "outputId": "d07e8f62-3b11-4c2e-cf8c-e02f91b7b10f"
      },
      "execution_count": 2,
      "outputs": [
        {
          "output_type": "stream",
          "name": "stdout",
          "text": [
            "Mounted at /content/drive\n"
          ]
        }
      ]
    },
    {
      "cell_type": "markdown",
      "source": [
        "### The \"data_dir\" is a string variable that you change to your liking depending on where the downloaded dataset is located. You can simply copy the folder path and paste it here."
      ],
      "metadata": {
        "id": "Xz7XytY_AxLd"
      }
    },
    {
      "cell_type": "code",
      "source": [
        "data_dir = \"/content/drive/MyDrive/JuniorIS/NepaliCharacters/nhcd/nhcd/numerals\"\n",
        "BATCH_SIZE = 32\n",
        "IMG_SIZE = (28,28) #Image size should be of width = 28 and length = 28\n",
        "dataset = tf.keras.utils.image_dataset_from_directory(data_dir, \n",
        "                                                      shuffle = True,\n",
        "                                                      batch_size= BATCH_SIZE,\n",
        "                                                      image_size= IMG_SIZE)\n"
      ],
      "metadata": {
        "colab": {
          "base_uri": "https://localhost:8080/"
        },
        "id": "Xv9jJ4tenQRO",
        "outputId": "667a1d74-fa8f-448b-f1ec-74988e9c2e33"
      },
      "execution_count": 3,
      "outputs": [
        {
          "output_type": "stream",
          "name": "stdout",
          "text": [
            "Found 2880 files belonging to 10 classes.\n"
          ]
        }
      ]
    },
    {
      "cell_type": "markdown",
      "source": [
        "### Install split_folders to split folders for training and validation dataset"
      ],
      "metadata": {
        "id": "GNjWPjsgBMLm"
      }
    },
    {
      "cell_type": "code",
      "source": [
        "!pip install split_folders"
      ],
      "metadata": {
        "colab": {
          "base_uri": "https://localhost:8080/"
        },
        "id": "IW5Dk-eUndm5",
        "outputId": "eee57e33-425e-40d4-e566-eeb9f577d81c"
      },
      "execution_count": 4,
      "outputs": [
        {
          "output_type": "stream",
          "name": "stdout",
          "text": [
            "Looking in indexes: https://pypi.org/simple, https://us-python.pkg.dev/colab-wheels/public/simple/\n",
            "Collecting split_folders\n",
            "  Downloading split_folders-0.5.1-py3-none-any.whl (8.4 kB)\n",
            "Installing collected packages: split_folders\n",
            "Successfully installed split_folders-0.5.1\n"
          ]
        }
      ]
    },
    {
      "cell_type": "code",
      "source": [
        "import splitfolders\n",
        "splitfolders.ratio(data_dir, output = \"/content/output1\", seed = 1337, ratio = (0.8, 0.1, 0.1)) #creating a new folder \"output1 to store our training, validation and test cases\""
      ],
      "metadata": {
        "colab": {
          "base_uri": "https://localhost:8080/"
        },
        "id": "MISNYTP2nkr_",
        "outputId": "3486967d-73b7-4f60-fd63-ec15ceb50e25"
      },
      "execution_count": 5,
      "outputs": [
        {
          "output_type": "stream",
          "name": "stderr",
          "text": [
            "Copying files: 2880 files [00:49, 58.25 files/s] \n"
          ]
        }
      ]
    },
    {
      "cell_type": "code",
      "source": [
        "from sklearn.model_selection import train_test_split\n",
        "from sklearn.utils import validation"
      ],
      "metadata": {
        "id": "47TfgG2enr7S"
      },
      "execution_count": 6,
      "outputs": []
    },
    {
      "cell_type": "code",
      "source": [
        "train_dir = \"/content/output1/train\"\n",
        "validation_dir = \"/content/output1/val\"\n",
        "train_dataset = tf.keras.utils.image_dataset_from_directory(train_dir,\n",
        "                                                            shuffle = True,\n",
        "                                                            batch_size= BATCH_SIZE,\n",
        "                                                            image_size=IMG_SIZE)\n",
        "validation_dataset = tf.keras.utils.image_dataset_from_directory(validation_dir,\n",
        "                                                                 shuffle= True,\n",
        "                                                                 batch_size= BATCH_SIZE,\n",
        "                                                                 image_size=IMG_SIZE)"
      ],
      "metadata": {
        "colab": {
          "base_uri": "https://localhost:8080/"
        },
        "id": "d9Eto_iFnu9B",
        "outputId": "768ffdf7-a91a-46e5-dd5f-5411a254f5ca"
      },
      "execution_count": 7,
      "outputs": [
        {
          "output_type": "stream",
          "name": "stdout",
          "text": [
            "Found 2300 files belonging to 10 classes.\n",
            "Found 280 files belonging to 10 classes.\n"
          ]
        }
      ]
    },
    {
      "cell_type": "markdown",
      "source": [
        "### Displaying some of the images with their classes"
      ],
      "metadata": {
        "id": "N9ptl_9yCWX9"
      }
    },
    {
      "cell_type": "code",
      "source": [
        "import matplotlib.pyplot as plt\n",
        "class_names = train_dataset.class_names\n",
        "\n",
        "plt.figure(figsize = (28,28))\n",
        "x = 10\n",
        "for images, labels in train_dataset.take(1):\n",
        "  for i in range(x):\n",
        "    axi = plt.subplot(x-1,x-1,i+1)\n",
        "    plt.imshow(images[i].numpy().astype(\"uint8\"))\n",
        "    plt.title(class_names[labels[i]])\n",
        "    plt.axis(\"on\")"
      ],
      "metadata": {
        "colab": {
          "base_uri": "https://localhost:8080/",
          "height": 252
        },
        "id": "ToZmakPmnzF6",
        "outputId": "d75868ca-3ca3-4f97-854c-7ee495925ae7"
      },
      "execution_count": 72,
      "outputs": [
        {
          "output_type": "display_data",
          "data": {
            "text/plain": [
              "<Figure size 2800x2800 with 10 Axes>"
            ],
            "image/png": "[encoded data removed]"
          },
          "metadata": {}
        }
      ]
    },
    {
      "cell_type": "markdown",
      "source": [
        "#### We will now divide our dataset with 80% of the images used for training and 20% for validation. This is a good balance as suggested by Tensorflow."
      ],
      "metadata": {
        "id": "LbvfMue2Bq2j"
      }
    },
    {
      "cell_type": "code",
      "source": [
        "train_ds = tf.keras.utils.image_dataset_from_directory(\n",
        "  data_dir,\n",
        "  validation_split=0.2,\n",
        "  subset=\"training\",\n",
        "  seed=123,\n",
        "  image_size=IMG_SIZE,\n",
        "  batch_size=BATCH_SIZE)"
      ],
      "metadata": {
        "colab": {
          "base_uri": "https://localhost:8080/"
        },
        "id": "VCDVka-0oBPW",
        "outputId": "f42b8aa1-1884-40b7-a2bb-a36589cf1d56"
      },
      "execution_count": 9,
      "outputs": [
        {
          "output_type": "stream",
          "name": "stdout",
          "text": [
            "Found 2880 files belonging to 10 classes.\n",
            "Using 2304 files for training.\n"
          ]
        }
      ]
    },
    {
      "cell_type": "code",
      "source": [
        "val_ds = tf.keras.utils.image_dataset_from_directory(\n",
        "  data_dir,\n",
        "  validation_split=0.2,\n",
        "  subset=\"validation\",\n",
        "  seed=123,\n",
        "  image_size=IMG_SIZE,\n",
        "  batch_size=BATCH_SIZE)"
      ],
      "metadata": {
        "colab": {
          "base_uri": "https://localhost:8080/"
        },
        "id": "-k0a5M5aoDrW",
        "outputId": "9766deeb-230c-4e26-f892-3bd0e2d39a76"
      },
      "execution_count": 10,
      "outputs": [
        {
          "output_type": "stream",
          "name": "stdout",
          "text": [
            "Found 2880 files belonging to 10 classes.\n",
            "Using 576 files for validation.\n"
          ]
        }
      ]
    },
    {
      "cell_type": "code",
      "source": [
        "AUTOTUNE = tf.data.AUTOTUNE\n",
        "\n",
        "train_ds = train_ds.cache().shuffle(1000).prefetch(buffer_size=AUTOTUNE) #train_ds.cache saves the data in the memory after the first epoch\n",
        "val_ds = val_ds.cache().prefetch(buffer_size=AUTOTUNE)"
      ],
      "metadata": {
        "id": "XocH8-p2oJYO"
      },
      "execution_count": 11,
      "outputs": []
    },
    {
      "cell_type": "markdown",
      "source": [
        "### Using Convolutional Neural Network with Conv2d, Maxpooling, Flatten and Dense for accurate training and prediction."
      ],
      "metadata": {
        "id": "NpT_nFIHC7qL"
      }
    },
    {
      "cell_type": "code",
      "source": [
        "from keras.layers.attention.multi_head_attention import activation\n",
        "model_nepali = tf.keras.Sequential()\n",
        "model_nepali.add(tf.keras.layers.Rescaling(1./255, input_shape = (28,28,3)))\n",
        "model_nepali.add(tf.keras.layers.Conv2D(16,3, padding = 'same', activation='relu'))\n",
        "model_nepali.add(tf.keras.layers.MaxPooling2D())\n",
        "model_nepali.add(tf.keras.layers.Conv2D(32, 3, padding = 'same', activation='relu'))\n",
        "model_nepali.add(tf.keras.layers.MaxPooling2D())\n",
        "model_nepali.add(tf.keras.layers.Conv2D(64, 3, padding = 'same', activation='relu'))\n",
        "model_nepali.add(tf.keras.layers.MaxPooling2D())\n",
        "model_nepali.add(tf.keras.layers.Flatten())\n",
        "model_nepali.add(tf.keras.layers.Dense(128, activation= 'relu'))\n",
        "model_nepali.add(tf.keras.layers.Dense(128, activation= 'relu'))\n",
        "model_nepali.add(tf.keras.layers.Dense(10, activation = 'softmax'))\n",
        "\n",
        "model_nepali.compile(optimizer='adam', loss='sparse_categorical_crossentropy', metrics=['accuracy'])\n",
        "\n",
        "model_nepali.summary()"
      ],
      "metadata": {
        "id": "e_pP6u_Xordc",
        "colab": {
          "base_uri": "https://localhost:8080/"
        },
        "outputId": "2e1bd11f-d0d6-4669-f996-70f0fc9afc40"
      },
      "execution_count": 13,
      "outputs": [
        {
          "output_type": "stream",
          "name": "stdout",
          "text": [
            "Model: \"sequential\"\n",
            "_________________________________________________________________\n",
            " Layer (type)                Output Shape              Param #   \n",
            "=================================================================\n",
            " rescaling_1 (Rescaling)     (None, 28, 28, 3)         0         \n",
            "                                                                 \n",
            " conv2d (Conv2D)             (None, 28, 28, 16)        448       \n",
            "                                                                 \n",
            " max_pooling2d (MaxPooling2D  (None, 14, 14, 16)       0         \n",
            " )                                                               \n",
            "                                                                 \n",
            " conv2d_1 (Conv2D)           (None, 14, 14, 32)        4640      \n",
            "                                                                 \n",
            " max_pooling2d_1 (MaxPooling  (None, 7, 7, 32)         0         \n",
            " 2D)                                                             \n",
            "                                                                 \n",
            " conv2d_2 (Conv2D)           (None, 7, 7, 64)          18496     \n",
            "                                                                 \n",
            " max_pooling2d_2 (MaxPooling  (None, 3, 3, 64)         0         \n",
            " 2D)                                                             \n",
            "                                                                 \n",
            " flatten (Flatten)           (None, 576)               0         \n",
            "                                                                 \n",
            " dense (Dense)               (None, 128)               73856     \n",
            "                                                                 \n",
            " dense_1 (Dense)             (None, 128)               16512     \n",
            "                                                                 \n",
            " dense_2 (Dense)             (None, 10)                1290      \n",
            "                                                                 \n",
            "=================================================================\n",
            "Total params: 115,242\n",
            "Trainable params: 115,242\n",
            "Non-trainable params: 0\n",
            "_________________________________________________________________\n"
          ]
        }
      ]
    },
    {
      "cell_type": "code",
      "source": [
        "epochs=20\n",
        "history_nepali = model_nepali.fit(\n",
        "  train_ds,\n",
        "  validation_data=val_ds,\n",
        "  epochs=epochs\n",
        ")"
      ],
      "metadata": {
        "colab": {
          "base_uri": "https://localhost:8080/"
        },
        "id": "MX_lDBNDj7y7",
        "outputId": "007febac-448f-4e60-f3c6-181b1c17892e"
      },
      "execution_count": 14,
      "outputs": [
        {
          "output_type": "stream",
          "name": "stdout",
          "text": [
            "Epoch 1/20\n",
            "72/72 [==============================] - 7s 45ms/step - loss: 1.6876 - accuracy: 0.4319 - val_loss: 0.6363 - val_accuracy: 0.8108\n",
            "Epoch 2/20\n",
            "72/72 [==============================] - 2s 34ms/step - loss: 0.4285 - accuracy: 0.8576 - val_loss: 0.3986 - val_accuracy: 0.8733\n",
            "Epoch 3/20\n",
            "72/72 [==============================] - 5s 71ms/step - loss: 0.2033 - accuracy: 0.9319 - val_loss: 0.2551 - val_accuracy: 0.9115\n",
            "Epoch 4/20\n",
            "72/72 [==============================] - 6s 79ms/step - loss: 0.0870 - accuracy: 0.9744 - val_loss: 0.1664 - val_accuracy: 0.9392\n",
            "Epoch 5/20\n",
            "72/72 [==============================] - 6s 86ms/step - loss: 0.0596 - accuracy: 0.9818 - val_loss: 0.1371 - val_accuracy: 0.9497\n",
            "Epoch 6/20\n",
            "72/72 [==============================] - 5s 75ms/step - loss: 0.0345 - accuracy: 0.9905 - val_loss: 0.1137 - val_accuracy: 0.9635\n",
            "Epoch 7/20\n",
            "72/72 [==============================] - 9s 120ms/step - loss: 0.0189 - accuracy: 0.9944 - val_loss: 0.1654 - val_accuracy: 0.9444\n",
            "Epoch 8/20\n",
            "72/72 [==============================] - 5s 65ms/step - loss: 0.0174 - accuracy: 0.9952 - val_loss: 0.1382 - val_accuracy: 0.9583\n",
            "Epoch 9/20\n",
            "72/72 [==============================] - 6s 89ms/step - loss: 0.0122 - accuracy: 0.9974 - val_loss: 0.0898 - val_accuracy: 0.9740\n",
            "Epoch 10/20\n",
            "72/72 [==============================] - 5s 64ms/step - loss: 0.0137 - accuracy: 0.9961 - val_loss: 0.1377 - val_accuracy: 0.9618\n",
            "Epoch 11/20\n",
            "72/72 [==============================] - 4s 51ms/step - loss: 0.0110 - accuracy: 0.9957 - val_loss: 0.1089 - val_accuracy: 0.9653\n",
            "Epoch 12/20\n",
            "72/72 [==============================] - 5s 76ms/step - loss: 0.0156 - accuracy: 0.9957 - val_loss: 0.0822 - val_accuracy: 0.9809\n",
            "Epoch 13/20\n",
            "72/72 [==============================] - 2s 34ms/step - loss: 0.0060 - accuracy: 0.9987 - val_loss: 0.0861 - val_accuracy: 0.9740\n",
            "Epoch 14/20\n",
            "72/72 [==============================] - 4s 58ms/step - loss: 0.0043 - accuracy: 0.9987 - val_loss: 0.1157 - val_accuracy: 0.9618\n",
            "Epoch 15/20\n",
            "72/72 [==============================] - 3s 36ms/step - loss: 0.0111 - accuracy: 0.9970 - val_loss: 0.1218 - val_accuracy: 0.9688\n",
            "Epoch 16/20\n",
            "72/72 [==============================] - 2s 35ms/step - loss: 8.4222e-04 - accuracy: 1.0000 - val_loss: 0.0929 - val_accuracy: 0.9757\n",
            "Epoch 17/20\n",
            "72/72 [==============================] - 3s 35ms/step - loss: 2.5094e-04 - accuracy: 1.0000 - val_loss: 0.0842 - val_accuracy: 0.9792\n",
            "Epoch 18/20\n",
            "72/72 [==============================] - 3s 38ms/step - loss: 1.7191e-04 - accuracy: 1.0000 - val_loss: 0.0848 - val_accuracy: 0.9792\n",
            "Epoch 19/20\n",
            "72/72 [==============================] - 3s 36ms/step - loss: 1.1394e-04 - accuracy: 1.0000 - val_loss: 0.0855 - val_accuracy: 0.9792\n",
            "Epoch 20/20\n",
            "72/72 [==============================] - 2s 34ms/step - loss: 7.7544e-05 - accuracy: 1.0000 - val_loss: 0.0841 - val_accuracy: 0.9792\n"
          ]
        }
      ]
    },
    {
      "cell_type": "markdown",
      "source": [
        "#### Saving the model as Model_Nepali"
      ],
      "metadata": {
        "id": "H_ioPw3XHncs"
      }
    },
    {
      "cell_type": "code",
      "source": [
        "model_nepali.save('Model_Nepali')"
      ],
      "metadata": {
        "id": "37Mo3R8hHI4k"
      },
      "execution_count": null,
      "outputs": []
    },
    {
      "cell_type": "code",
      "source": [
        "acc = history_nepali.history['accuracy']\n",
        "val_acc = history_nepali.history['val_accuracy']\n",
        "\n",
        "loss = history_nepali.history['loss']\n",
        "val_loss = history_nepali.history['val_loss']\n",
        "\n",
        "epochs_range = range(epochs)\n",
        "\n",
        "plt.figure(figsize=(10, 10))\n",
        "plt.subplot(1, 2, 1)\n",
        "plt.plot(epochs_range, acc, label='Training Accuracy')\n",
        "plt.plot(epochs_range, val_acc, label='Validation Accuracy')\n",
        "plt.legend()\n",
        "plt.title('Training and Validation Accuracy')\n",
        "\n",
        "plt.subplot(1, 2, 2)\n",
        "plt.plot(epochs_range, loss, label='Training Loss')\n",
        "plt.plot(epochs_range, val_loss, label='Validation Loss')\n",
        "plt.legend()\n",
        "plt.title('Training and Validation Loss')\n",
        "plt.show()\n"
      ],
      "metadata": {
        "colab": {
          "base_uri": "https://localhost:8080/",
          "height": 699
        },
        "id": "LrLtduSokTo9",
        "outputId": "28f51a90-4fd9-44ac-e0df-6527351eda86"
      },
      "execution_count": 15,
      "outputs": [
        {
          "output_type": "display_data",
          "data": {
            "text/plain": [
              "<Figure size 800x800 with 2 Axes>"
            ],
            "image/png": "[encoded data removed]"
          },
          "metadata": {}
        }
      ]
    },
    {
      "cell_type": "markdown",
      "source": [
        "## Installing Gradiio for a frontend"
      ],
      "metadata": {
        "id": "NJSgN-nxDyoJ"
      }
    },
    {
      "cell_type": "code",
      "source": [
        "pip install gradio\n"
      ],
      "metadata": {
        "colab": {
          "base_uri": "https://localhost:8080/"
        },
        "id": "yPKmu-MZRE6K",
        "outputId": "b9d48251-8d37-4bc2-8371-e9fd1984309d"
      },
      "execution_count": 19,
      "outputs": [
        {
          "output_type": "stream",
          "name": "stdout",
          "text": [
            "Looking in indexes: https://pypi.org/simple, https://us-python.pkg.dev/colab-wheels/public/simple/\n",
            "Collecting gradio\n",
            "  Downloading gradio-3.27.0-py3-none-any.whl (17.3 MB)\n",
            "\u001b[2K     \u001b[90m━━━━━━━━━━━━━━━━━━━━━━━━━━━━━━━━━━━━━━━━\u001b[0m \u001b[32m17.3/17.3 MB\u001b[0m \u001b[31m42.8 MB/s\u001b[0m eta \u001b[36m0:00:00\u001b[0m\n",
            "\u001b[?25hCollecting websockets>=10.0\n",
            "  Downloading websockets-11.0.2-cp39-cp39-manylinux_2_5_x86_64.manylinux1_x86_64.manylinux_2_17_x86_64.manylinux2014_x86_64.whl (129 kB)\n",
            "\u001b[2K     \u001b[90m━━━━━━━━━━━━━━━━━━━━━━━━━━━━━━━━━━━━━━\u001b[0m \u001b[32m129.7/129.7 kB\u001b[0m \u001b[31m15.1 MB/s\u001b[0m eta \u001b[36m0:00:00\u001b[0m\n",
            "\u001b[?25hCollecting aiofiles\n",
            "  Downloading aiofiles-23.1.0-py3-none-any.whl (14 kB)\n",
            "Requirement already satisfied: typing-extensions in /usr/local/lib/python3.9/dist-packages (from gradio) (4.5.0)\n",
            "Requirement already satisfied: markupsafe in /usr/local/lib/python3.9/dist-packages (from gradio) (2.1.2)\n",
            "Collecting semantic-version\n",
            "  Downloading semantic_version-2.10.0-py2.py3-none-any.whl (15 kB)\n",
            "Collecting fastapi\n",
            "  Downloading fastapi-0.95.1-py3-none-any.whl (56 kB)\n",
            "\u001b[2K     \u001b[90m━━━━━━━━━━━━━━━━━━━━━━━━━━━━━━━━━━━━━━━━\u001b[0m \u001b[32m57.0/57.0 kB\u001b[0m \u001b[31m6.1 MB/s\u001b[0m eta \u001b[36m0:00:00\u001b[0m\n",
            "\u001b[?25hCollecting httpx\n",
            "  Downloading httpx-0.24.0-py3-none-any.whl (75 kB)\n",
            "\u001b[2K     \u001b[90m━━━━━━━━━━━━━━━━━━━━━━━━━━━━━━━━━━━━━━━━\u001b[0m \u001b[32m75.3/75.3 kB\u001b[0m \u001b[31m7.4 MB/s\u001b[0m eta \u001b[36m0:00:00\u001b[0m\n",
            "\u001b[?25hRequirement already satisfied: markdown-it-py[linkify]>=2.0.0 in /usr/local/lib/python3.9/dist-packages (from gradio) (2.2.0)\n",
            "Requirement already satisfied: numpy in /usr/local/lib/python3.9/dist-packages (from gradio) (1.22.4)\n",
            "Requirement already satisfied: pydantic in /usr/local/lib/python3.9/dist-packages (from gradio) (1.10.7)\n",
            "Collecting huggingface-hub>=0.13.0\n",
            "  Downloading huggingface_hub-0.13.4-py3-none-any.whl (200 kB)\n",
            "\u001b[2K     \u001b[90m━━━━━━━━━━━━━━━━━━━━━━━━━━━━━━━━━━━━━━\u001b[0m \u001b[32m200.1/200.1 kB\u001b[0m \u001b[31m19.1 MB/s\u001b[0m eta \u001b[36m0:00:00\u001b[0m\n",
            "\u001b[?25hCollecting uvicorn\n",
            "  Downloading uvicorn-0.21.1-py3-none-any.whl (57 kB)\n",
            "\u001b[2K     \u001b[90m━━━━━━━━━━━━━━━━━━━━━━━━━━━━━━━━━━━━━━━━\u001b[0m \u001b[32m57.8/57.8 kB\u001b[0m \u001b[31m6.4 MB/s\u001b[0m eta \u001b[36m0:00:00\u001b[0m\n",
            "\u001b[?25hCollecting pydub\n",
            "  Downloading pydub-0.25.1-py2.py3-none-any.whl (32 kB)\n",
            "Collecting ffmpy\n",
            "  Downloading ffmpy-0.3.0.tar.gz (4.8 kB)\n",
            "  Preparing metadata (setup.py) ... \u001b[?25l\u001b[?25hdone\n",
            "Collecting orjson\n",
            "  Downloading orjson-3.8.10-cp39-cp39-manylinux_2_28_x86_64.whl (140 kB)\n",
            "\u001b[2K     \u001b[90m━━━━━━━━━━━━━━━━━━━━━━━━━━━━━━━━━━━━━━\u001b[0m \u001b[32m140.5/140.5 kB\u001b[0m \u001b[31m14.9 MB/s\u001b[0m eta \u001b[36m0:00:00\u001b[0m\n",
            "\u001b[?25hRequirement already satisfied: pillow in /usr/local/lib/python3.9/dist-packages (from gradio) (8.4.0)\n",
            "Collecting aiohttp\n",
            "  Downloading aiohttp-3.8.4-cp39-cp39-manylinux_2_17_x86_64.manylinux2014_x86_64.whl (1.0 MB)\n",
            "\u001b[2K     \u001b[90m━━━━━━━━━━━━━━━━━━━━━━━━━━━━━━━━━━━━━━━━\u001b[0m \u001b[32m1.0/1.0 MB\u001b[0m \u001b[31m58.8 MB/s\u001b[0m eta \u001b[36m0:00:00\u001b[0m\n",
            "\u001b[?25hCollecting gradio-client>=0.1.3\n",
            "  Downloading gradio_client-0.1.3-py3-none-any.whl (286 kB)\n",
            "\u001b[2K     \u001b[90m━━━━━━━━━━━━━━━━━━━━━━━━━━━━━━━━━━━━━━\u001b[0m \u001b[32m286.2/286.2 kB\u001b[0m \u001b[31m28.7 MB/s\u001b[0m eta \u001b[36m0:00:00\u001b[0m\n",
            "\u001b[?25hCollecting python-multipart\n",
            "  Downloading python_multipart-0.0.6-py3-none-any.whl (45 kB)\n",
            "\u001b[2K     \u001b[90m━━━━━━━━━━━━━━━━━━━━━━━━━━━━━━━━━━━━━━━━\u001b[0m \u001b[32m45.7/45.7 kB\u001b[0m \u001b[31m5.5 MB/s\u001b[0m eta \u001b[36m0:00:00\u001b[0m\n",
            "\u001b[?25hRequirement already satisfied: matplotlib in /usr/local/lib/python3.9/dist-packages (from gradio) (3.7.1)\n",
            "Requirement already satisfied: requests in /usr/local/lib/python3.9/dist-packages (from gradio) (2.27.1)\n",
            "Collecting mdit-py-plugins<=0.3.3\n",
            "  Downloading mdit_py_plugins-0.3.3-py3-none-any.whl (50 kB)\n",
            "\u001b[2K     \u001b[90m━━━━━━━━━━━━━━━━━━━━━━━━━━━━━━━━━━━━━━━━\u001b[0m \u001b[32m50.5/50.5 kB\u001b[0m \u001b[31m6.6 MB/s\u001b[0m eta \u001b[36m0:00:00\u001b[0m\n",
            "\u001b[?25hRequirement already satisfied: pyyaml in /usr/local/lib/python3.9/dist-packages (from gradio) (6.0)\n",
            "Requirement already satisfied: jinja2 in /usr/local/lib/python3.9/dist-packages (from gradio) (3.1.2)\n",
            "Requirement already satisfied: altair>=4.2.0 in /usr/local/lib/python3.9/dist-packages (from gradio) (4.2.2)\n",
            "Requirement already satisfied: pandas in /usr/local/lib/python3.9/dist-packages (from gradio) (1.5.3)\n",
            "Requirement already satisfied: toolz in /usr/local/lib/python3.9/dist-packages (from altair>=4.2.0->gradio) (0.12.0)\n",
            "Requirement already satisfied: entrypoints in /usr/local/lib/python3.9/dist-packages (from altair>=4.2.0->gradio) (0.4)\n",
            "Requirement already satisfied: jsonschema>=3.0 in /usr/local/lib/python3.9/dist-packages (from altair>=4.2.0->gradio) (4.3.3)\n",
            "Requirement already satisfied: fsspec in /usr/local/lib/python3.9/dist-packages (from gradio-client>=0.1.3->gradio) (2023.4.0)\n",
            "Requirement already satisfied: packaging in /usr/local/lib/python3.9/dist-packages (from gradio-client>=0.1.3->gradio) (23.1)\n",
            "Requirement already satisfied: filelock in /usr/local/lib/python3.9/dist-packages (from huggingface-hub>=0.13.0->gradio) (3.11.0)\n",
            "Requirement already satisfied: tqdm>=4.42.1 in /usr/local/lib/python3.9/dist-packages (from huggingface-hub>=0.13.0->gradio) (4.65.0)\n",
            "Requirement already satisfied: mdurl~=0.1 in /usr/local/lib/python3.9/dist-packages (from markdown-it-py[linkify]>=2.0.0->gradio) (0.1.2)\n",
            "Collecting linkify-it-py<3,>=1\n",
            "  Downloading linkify_it_py-2.0.0-py3-none-any.whl (19 kB)\n",
            "Requirement already satisfied: python-dateutil>=2.8.1 in /usr/local/lib/python3.9/dist-packages (from pandas->gradio) (2.8.2)\n",
            "Requirement already satisfied: pytz>=2020.1 in /usr/local/lib/python3.9/dist-packages (from pandas->gradio) (2022.7.1)\n",
            "Requirement already satisfied: charset-normalizer<4.0,>=2.0 in /usr/local/lib/python3.9/dist-packages (from aiohttp->gradio) (2.0.12)\n",
            "Collecting frozenlist>=1.1.1\n",
            "  Downloading frozenlist-1.3.3-cp39-cp39-manylinux_2_5_x86_64.manylinux1_x86_64.manylinux_2_17_x86_64.manylinux2014_x86_64.whl (158 kB)\n",
            "\u001b[2K     \u001b[90m━━━━━━━━━━━━━━━━━━━━━━━━━━━━━━━━━━━━━━\u001b[0m \u001b[32m158.8/158.8 kB\u001b[0m \u001b[31m17.9 MB/s\u001b[0m eta \u001b[36m0:00:00\u001b[0m\n",
            "\u001b[?25hCollecting yarl<2.0,>=1.0\n",
            "  Downloading yarl-1.9.1-cp39-cp39-manylinux_2_17_x86_64.manylinux2014_x86_64.whl (269 kB)\n",
            "\u001b[2K     \u001b[90m━━━━━━━━━━━━━━━━━━━━━━━━━━━━━━━━━━━━━━\u001b[0m \u001b[32m269.3/269.3 kB\u001b[0m \u001b[31m25.6 MB/s\u001b[0m eta \u001b[36m0:00:00\u001b[0m\n",
            "\u001b[?25hRequirement already satisfied: attrs>=17.3.0 in /usr/local/lib/python3.9/dist-packages (from aiohttp->gradio) (23.1.0)\n",
            "Collecting aiosignal>=1.1.2\n",
            "  Downloading aiosignal-1.3.1-py3-none-any.whl (7.6 kB)\n",
            "Collecting multidict<7.0,>=4.5\n",
            "  Downloading multidict-6.0.4-cp39-cp39-manylinux_2_17_x86_64.manylinux2014_x86_64.whl (114 kB)\n",
            "\u001b[2K     \u001b[90m━━━━━━━━━━━━━━━━━━━━━━━━━━━━━━━━━━━━━━\u001b[0m \u001b[32m114.2/114.2 kB\u001b[0m \u001b[31m12.9 MB/s\u001b[0m eta \u001b[36m0:00:00\u001b[0m\n",
            "\u001b[?25hCollecting async-timeout<5.0,>=4.0.0a3\n",
            "  Downloading async_timeout-4.0.2-py3-none-any.whl (5.8 kB)\n",
            "Collecting starlette<0.27.0,>=0.26.1\n",
            "  Downloading starlette-0.26.1-py3-none-any.whl (66 kB)\n",
            "\u001b[2K     \u001b[90m━━━━━━━━━━━━━━━━━━━━━━━━━━━━━━━━━━━━━━━━\u001b[0m \u001b[32m66.9/66.9 kB\u001b[0m \u001b[31m7.2 MB/s\u001b[0m eta \u001b[36m0:00:00\u001b[0m\n",
            "\u001b[?25hRequirement already satisfied: sniffio in /usr/local/lib/python3.9/dist-packages (from httpx->gradio) (1.3.0)\n",
            "Requirement already satisfied: certifi in /usr/local/lib/python3.9/dist-packages (from httpx->gradio) (2022.12.7)\n",
            "Requirement already satisfied: idna in /usr/local/lib/python3.9/dist-packages (from httpx->gradio) (3.4)\n",
            "Collecting httpcore<0.18.0,>=0.15.0\n",
            "  Downloading httpcore-0.17.0-py3-none-any.whl (70 kB)\n",
            "\u001b[2K     \u001b[90m━━━━━━━━━━━━━━━━━━━━━━━━━━━━━━━━━━━━━━━━\u001b[0m \u001b[32m70.6/70.6 kB\u001b[0m \u001b[31m7.9 MB/s\u001b[0m eta \u001b[36m0:00:00\u001b[0m\n",
            "\u001b[?25hRequirement already satisfied: contourpy>=1.0.1 in /usr/local/lib/python3.9/dist-packages (from matplotlib->gradio) (1.0.7)\n",
            "Requirement already satisfied: kiwisolver>=1.0.1 in /usr/local/lib/python3.9/dist-packages (from matplotlib->gradio) (1.4.4)\n",
            "Requirement already satisfied: pyparsing>=2.3.1 in /usr/local/lib/python3.9/dist-packages (from matplotlib->gradio) (3.0.9)\n",
            "Requirement already satisfied: cycler>=0.10 in /usr/local/lib/python3.9/dist-packages (from matplotlib->gradio) (0.11.0)\n",
            "Requirement already satisfied: fonttools>=4.22.0 in /usr/local/lib/python3.9/dist-packages (from matplotlib->gradio) (4.39.3)\n",
            "Requirement already satisfied: importlib-resources>=3.2.0 in /usr/local/lib/python3.9/dist-packages (from matplotlib->gradio) (5.12.0)\n",
            "Requirement already satisfied: urllib3<1.27,>=1.21.1 in /usr/local/lib/python3.9/dist-packages (from requests->gradio) (1.26.15)\n",
            "Requirement already satisfied: click>=7.0 in /usr/local/lib/python3.9/dist-packages (from uvicorn->gradio) (8.1.3)\n",
            "Collecting h11>=0.8\n",
            "  Downloading h11-0.14.0-py3-none-any.whl (58 kB)\n",
            "\u001b[2K     \u001b[90m━━━━━━━━━━━━━━━━━━━━━━━━━━━━━━━━━━━━━━━━\u001b[0m \u001b[32m58.3/58.3 kB\u001b[0m \u001b[31m5.5 MB/s\u001b[0m eta \u001b[36m0:00:00\u001b[0m\n",
            "\u001b[?25hRequirement already satisfied: anyio<5.0,>=3.0 in /usr/local/lib/python3.9/dist-packages (from httpcore<0.18.0,>=0.15.0->httpx->gradio) (3.6.2)\n",
            "Requirement already satisfied: zipp>=3.1.0 in /usr/local/lib/python3.9/dist-packages (from importlib-resources>=3.2.0->matplotlib->gradio) (3.15.0)\n",
            "Requirement already satisfied: pyrsistent!=0.17.0,!=0.17.1,!=0.17.2,>=0.14.0 in /usr/local/lib/python3.9/dist-packages (from jsonschema>=3.0->altair>=4.2.0->gradio) (0.19.3)\n",
            "Collecting uc-micro-py\n",
            "  Downloading uc_micro_py-1.0.1-py3-none-any.whl (6.2 kB)\n",
            "Requirement already satisfied: six>=1.5 in /usr/local/lib/python3.9/dist-packages (from python-dateutil>=2.8.1->pandas->gradio) (1.16.0)\n",
            "Building wheels for collected packages: ffmpy\n",
            "  Building wheel for ffmpy (setup.py) ... \u001b[?25l\u001b[?25hdone\n",
            "  Created wheel for ffmpy: filename=ffmpy-0.3.0-py3-none-any.whl size=4707 sha256=168ca674a3d41f257880673978972489853d32b2d2cfed9fedbb92ba5d54e9b6\n",
            "  Stored in directory: /root/.cache/pip/wheels/91/e2/96/f676aa08bfd789328c6576cd0f1fde4a3d686703bb0c247697\n",
            "Successfully built ffmpy\n",
            "Installing collected packages: pydub, ffmpy, websockets, uc-micro-py, semantic-version, python-multipart, orjson, multidict, h11, frozenlist, async-timeout, aiofiles, yarl, uvicorn, starlette, mdit-py-plugins, linkify-it-py, huggingface-hub, httpcore, aiosignal, httpx, fastapi, aiohttp, gradio-client, gradio\n",
            "Successfully installed aiofiles-23.1.0 aiohttp-3.8.4 aiosignal-1.3.1 async-timeout-4.0.2 fastapi-0.95.1 ffmpy-0.3.0 frozenlist-1.3.3 gradio-3.27.0 gradio-client-0.1.3 h11-0.14.0 httpcore-0.17.0 httpx-0.24.0 huggingface-hub-0.13.4 linkify-it-py-2.0.0 mdit-py-plugins-0.3.3 multidict-6.0.4 orjson-3.8.10 pydub-0.25.1 python-multipart-0.0.6 semantic-version-2.10.0 starlette-0.26.1 uc-micro-py-1.0.1 uvicorn-0.21.1 websockets-11.0.2 yarl-1.9.1\n"
          ]
        }
      ]
    },
    {
      "cell_type": "code",
      "source": [
        "import gradio as gr\n",
        "import requests\n",
        "def classify_image(inp):\n",
        "  \n",
        "  img_array = tf.keras.utils.img_to_array(inp)\n",
        "  img_array = tf.expand_dims(img_array, 0)\n",
        "  prediction_from_nepali = model_nepali.predict(img_array)\n",
        "  nepali_score = tf.nn.softmax(prediction_from_nepali[0])\n",
        "  print(\"Nepali Score: {}\" .format(nepali_score))\n",
        "  return \"This image is most probably of {}. \" .format(class_names[np.argmax(nepali_score)]) #returns a string that classifies which nepali number is the input text image."
      ],
      "metadata": {
        "id": "rQxy-xlmRMqx"
      },
      "execution_count": 37,
      "outputs": []
    },
    {
      "cell_type": "markdown",
      "source": [
        "## You can test out different images from any files in your Computer with the use of gradio's UI. However this only works for Nepali model for me hence, this will only classify the input text image among the Nepali dataset classes and not English dataset. After using this stop the running of this block as not doing so will result in the codes following this to not run."
      ],
      "metadata": {
        "id": "gyAiBBbmEIzw"
      }
    },
    {
      "cell_type": "code",
      "source": [
        "image = gr.inputs.Image(shape=(28,28))\n",
        "label = gr.outputs.Label(num_top_classes=2)\n",
        "\n",
        "\n",
        "gr.Interface(fn = classify_image, \n",
        "             inputs=gr.Image(shape=(28,28)),\n",
        "             outputs=label,\n",
        "             ).launch(debug = \"True\")"
      ],
      "metadata": {
        "colab": {
          "base_uri": "https://localhost:8080/",
          "height": 959
        },
        "id": "ebWGy4FrRXb1",
        "outputId": "69bdafc9-6bac-4368-b42f-11774a51f829"
      },
      "execution_count": 38,
      "outputs": [
        {
          "output_type": "stream",
          "name": "stderr",
          "text": [
            "/usr/local/lib/python3.9/dist-packages/gradio/inputs.py:257: UserWarning: Usage of gradio.inputs is deprecated, and will not be supported in the future, please import your component from gradio.components\n",
            "  warnings.warn(\n",
            "/usr/local/lib/python3.9/dist-packages/gradio/deprecation.py:40: UserWarning: `optional` parameter is deprecated, and it has no effect\n",
            "  warnings.warn(value)\n",
            "/usr/local/lib/python3.9/dist-packages/gradio/outputs.py:197: UserWarning: Usage of gradio.outputs is deprecated, and will not be supported in the future, please import your components from gradio.components\n",
            "  warnings.warn(\n",
            "/usr/local/lib/python3.9/dist-packages/gradio/deprecation.py:40: UserWarning: The 'type' parameter has been deprecated. Use the Number component instead.\n",
            "  warnings.warn(value)\n"
          ]
        },
        {
          "output_type": "stream",
          "name": "stdout",
          "text": [
            "Colab notebook detected. This cell will run indefinitely so that you can see errors and logs. To turn off, set debug=False in launch().\n",
            "Note: opening Chrome Inspector may crash demo inside Colab notebooks.\n",
            "\n",
            "To create a public link, set `share=True` in `launch()`.\n"
          ]
        },
        {
          "output_type": "display_data",
          "data": {
            "text/plain": [
              "<IPython.core.display.Javascript object>"
            ],
            "application/javascript": [
              "(async (port, path, width, height, cache, element) => {\n",
              "                        if (!google.colab.kernel.accessAllowed && !cache) {\n",
              "                            return;\n",
              "                        }\n",
              "                        element.appendChild(document.createTextNode(''));\n",
              "                        const url = await google.colab.kernel.proxyPort(port, {cache});\n",
              "\n",
              "                        const external_link = document.createElement('div');\n",
              "                        external_link.innerHTML = `\n",
              "                            <div style=\"font-family: monospace; margin-bottom: 0.5rem\">\n",
              "                                Running on <a href=${new URL(path, url).toString()} target=\"_blank\">\n",
              "                                    https://localhost:${port}${path}\n",
              "                                </a>\n",
              "                            </div>\n",
              "                        `;\n",
              "                        element.appendChild(external_link);\n",
              "\n",
              "                        const iframe = document.createElement('iframe');\n",
              "                        iframe.src = new URL(path, url).toString();\n",
              "                        iframe.height = height;\n",
              "                        iframe.allow = \"autoplay; camera; microphone; clipboard-read; clipboard-write;\"\n",
              "                        iframe.width = width;\n",
              "                        iframe.style.border = 0;\n",
              "                        element.appendChild(iframe);\n",
              "                    })(7860, \"/\", \"100%\", 500, false, window.element)"
            ]
          },
          "metadata": {}
        },
        {
          "output_type": "stream",
          "name": "stdout",
          "text": [
            "1/1 [==============================] - 0s 27ms/step\n",
            "Nepali Score: [0.08541925 0.08535784 0.08535784 0.08535791 0.0853597  0.08535784\n",
            " 0.08536037 0.23163526 0.08535784 0.08543614]\n",
            "1/1 [==============================] - 0s 24ms/step\n",
            "Nepali Score: [0.08537869 0.08537848 0.08537848 0.08537848 0.08537848 0.08537848\n",
            " 0.08537848 0.08537848 0.23130737 0.08566448]\n",
            "1/1 [==============================] - 0s 127ms/step\n",
            "Nepali Score: [0.08533678 0.08533689 0.0853368  0.08533678 0.08533683 0.0853368\n",
            " 0.08533678 0.08533678 0.08533678 0.23196883]\n",
            "Keyboard interruption in main thread... closing server.\n"
          ]
        },
        {
          "output_type": "execute_result",
          "data": {
            "text/plain": []
          },
          "metadata": {},
          "execution_count": 38
        }
      ]
    },
    {
      "cell_type": "markdown",
      "source": [
        "## Importing MNIST dataset with the help of Tensorflow for dataset of handwritten numerals of the English Language"
      ],
      "metadata": {
        "id": "TnBYlGHAEz63"
      }
    },
    {
      "cell_type": "code",
      "source": [
        "mnist = tf.keras.datasets.mnist\n",
        "(x_train, y_train), (x_test, y_test) = mnist.load_data()\n",
        "\n",
        "x_train = tf.keras.utils.normalize(x_train, axis=1)\n",
        "x_test = tf.keras.utils.normalize(x_test, axis=1)"
      ],
      "metadata": {
        "id": "8hO5RZjTkYPe",
        "colab": {
          "base_uri": "https://localhost:8080/"
        },
        "outputId": "ad2a5527-634a-4d1a-9a06-8652d416ab2c"
      },
      "execution_count": 16,
      "outputs": [
        {
          "output_type": "stream",
          "name": "stdout",
          "text": [
            "Downloading data from https://storage.googleapis.com/tensorflow/tf-keras-datasets/mnist.npz\n",
            "11490434/11490434 [==============================] - 1s 0us/step\n"
          ]
        }
      ]
    },
    {
      "cell_type": "markdown",
      "source": [
        "### The following code tells us that they have 60000 images of 28 * 28 dimensions to train which is more than ten times what the nepali numerals dataset contain."
      ],
      "metadata": {
        "id": "G53da9r4FED8"
      }
    },
    {
      "cell_type": "code",
      "source": [
        "x_train.shape"
      ],
      "metadata": {
        "colab": {
          "base_uri": "https://localhost:8080/"
        },
        "id": "epFlvHITBe-q",
        "outputId": "54459c32-2616-4b80-e58f-a9cd03a8bf70"
      },
      "execution_count": 17,
      "outputs": [
        {
          "output_type": "execute_result",
          "data": {
            "text/plain": [
              "(60000, 28, 28)"
            ]
          },
          "metadata": {},
          "execution_count": 17
        }
      ]
    },
    {
      "cell_type": "markdown",
      "source": [
        "## Pre-Processing"
      ],
      "metadata": {
        "id": "AkbXFXnJFYBB"
      }
    },
    {
      "cell_type": "code",
      "source": [
        "x_train = x_train.reshape(x_train.shape[0],28,28,1)\n",
        "x_test = x_test.reshape(x_test.shape[0], 28, 28, 1)\n",
        "input_shape = (28,28,1)\n",
        "x_train = x_train.astype('float32')\n",
        "x_test = x_test.astype('float32')\n",
        "x_train /= 255\n",
        "x_test /= 255"
      ],
      "metadata": {
        "id": "WfBuTpwfBjNe"
      },
      "execution_count": 41,
      "outputs": []
    },
    {
      "cell_type": "markdown",
      "source": [
        "### Few different variations of model building process that I carried out before coming to the one that is the most suitable one"
      ],
      "metadata": {
        "id": "89Rvb33cFmfV"
      }
    },
    {
      "cell_type": "code",
      "source": [
        "# from keras.layers.attention.multi_head_attention import activation\n",
        "# model_english = tf.keras.models.Sequential()\n",
        "# # model_english.add(tf.keras.layers.Flatten(input_shape=(28, 28)))\n",
        "# # model_english.add(tf.keras.layers.Dense(128, activation='relu'))\n",
        "# # model_english.add(tf.keras.layers.Dense(128, activation='relu'))\n",
        "# # model_english.add(tf.keras.layers.Dense(10, activation='softmax'))\n",
        "\n",
        "#model_english.add(tf.keras.layers.Rescaling(1./255, input_shape = (28,28,1)))\n",
        "# model_english.add(tf.keras.layers.Conv2D(28,3, padding = 'same', activation='relu'))\n",
        "# model_english.add(tf.keras.layers.MaxPooling2D())\n",
        "#model_english.add(tf.keras.layers.Conv2D(32, 3, padding = 'same', activation='relu'))\n",
        "#model_english.add(tf.keras.layers.MaxPooling2D())\n",
        "#model_english.add(tf.keras.layers.Conv2D(64, 3, padding = 'same', activation='relu'))\n",
        "#model_english.add(tf.keras.layers.MaxPooling2D())\n",
        "# model_english.add(tf.keras.layers.Flatten(input_shape = (28,28)))\n",
        "# model_english.add(tf.keras.layers.Dense(128, activation='relu'))\n",
        "# model_english.add(tf.keras.layers.Dense(128, activation='relu'))\n",
        "# model_english.add(tf.keras.layers.Dense(10, activation='softmax'))\n",
        "\n",
        "# # model_english.add(tf.keras.layers.Conv2D(18,4, padding = 'same', activation='relu'))\n",
        "# # model_english.add(tf.keras.layers.MaxPooling2D())\n",
        "# # model_english.add(tf.keras.layers.Conv2D(32, 4, padding = 'same', activation='relu'))\n",
        "# # model_english.add(tf.keras.layers.MaxPooling2D())\n",
        "# # model_english.add(tf.keras.layers.Conv2D(64, 4, padding = 'same', activation='relu'))\n",
        "# # model_english.add(tf.keras.layers.MaxPooling2D())\n",
        "# # #model_english.add(tf.keras.layers.Flatten())\n",
        "# # model_english.add(tf.keras.layers.Dense(128, activation= 'relu'))\n",
        "# # model_english.add(tf.keras.layers.Dense(128, activation= 'relu'))\n",
        "# # #model.add(tf.keras.layers.Dense())\n",
        "# # model_english.add(tf.keras.layers.Dense(10, activation = 'softmax'))\n",
        "# model_english.compile(optimizer='adam', loss='sparse_categorical_crossentropy', metrics=['accuracy'])\n",
        "# # model_english = tf.keras.models.Sequential([\n",
        "# #   tf.keras.layers.Flatten(input_shape=(28, 28)),\n",
        "# #   tf.keras.layers.Dense(128, activation='relu'),\n",
        "# #   tf.keras.layers.Dense(10)\n",
        "# # ])\n",
        "# # model_english.compile(\n",
        "# #     optimizer=tf.keras.optimizers.Adam(0.001),\n",
        "# #     loss=tf.keras.losses.SparseCategoricalCrossentropy(from_logits=True),\n",
        "# #     metrics=[tf.keras.metrics.SparseCategoricalAccuracy()],\n",
        "# # )\n",
        "#model_english.summary()"
      ],
      "metadata": {
        "id": "093Aqb7_kfBV"
      },
      "execution_count": null,
      "outputs": []
    },
    {
      "cell_type": "code",
      "source": [
        "# from tensorflow.keras.models import Sequential\n",
        "# from tensorflow.keras.layers import Dense, Conv2D, Dropout, Flatten, MaxPooling2D\n",
        "# # Creating a Sequential Model and adding the layers\n",
        "# model = Sequential()\n",
        "# model.add(Conv2D(28, kernel_size=(3,3), input_shape=input_shape))\n",
        "# model.add(MaxPooling2D())\n",
        "# model.add(Flatten()) # Flattening the 2D arrays for fully connected layers\n",
        "# model.add(Dense(128, activation=tf.nn.relu))\n",
        "# model.add(Dropout(0.2))\n",
        "# model.add(Dense(10,activation=tf.nn.softmax))"
      ],
      "metadata": {
        "id": "_wQvwtmnEu9Q"
      },
      "execution_count": null,
      "outputs": []
    },
    {
      "cell_type": "code",
      "source": [
        "model_english = tf.keras.models.Sequential()\n",
        "\n",
        "model_english.add(tf.keras.layers.Conv2D(28, 4, padding = 'same', activation='relu'))\n",
        "model_english.add(tf.keras.layers.MaxPooling2D())\n",
        "model_english.add(tf.keras.layers.Flatten())\n",
        "model_english.add(tf.keras.layers.Flatten(input_shape=(-1,28, 28,3)))\n",
        "model_english.add(tf.keras.layers.Dense(128, activation='relu'))\n",
        "model_english.add(tf.keras.layers.Dense(128, activation='relu'))\n",
        "model_english.add(tf.keras.layers.Dense(10, activation='softmax'))\n",
        "model_english.compile(optimizer='adam', loss='sparse_categorical_crossentropy', metrics=['accuracy'])\n",
        "\n",
        "history_eng= model_english.fit(x_train, y_train, epochs=20)\n",
        "#model.save('language_recognition.model')\n",
        "\n",
        "#model = tf.keras.models.load_model('language_recognition.model')\n",
        "loss, accuracy = model_english.evaluate(x_test, y_test)\n",
        "\n",
        "print(loss)\n",
        "print(accuracy)"
      ],
      "metadata": {
        "colab": {
          "base_uri": "https://localhost:8080/"
        },
        "id": "XDvohcq3Uxyc",
        "outputId": "69b3a377-9433-4672-f4bd-c47a7f2b19ae"
      },
      "execution_count": 70,
      "outputs": [
        {
          "output_type": "stream",
          "name": "stdout",
          "text": [
            "Epoch 1/20\n",
            "1875/1875 [==============================] - 54s 28ms/step - loss: 1.1976 - accuracy: 0.5834\n",
            "Epoch 2/20\n",
            "1875/1875 [==============================] - 56s 30ms/step - loss: 0.5678 - accuracy: 0.8259\n",
            "Epoch 3/20\n",
            "1875/1875 [==============================] - 54s 29ms/step - loss: 0.4097 - accuracy: 0.8777\n",
            "Epoch 4/20\n",
            "1875/1875 [==============================] - 55s 29ms/step - loss: 0.3284 - accuracy: 0.9024\n",
            "Epoch 5/20\n",
            "1875/1875 [==============================] - 52s 28ms/step - loss: 0.2889 - accuracy: 0.9136\n",
            "Epoch 6/20\n",
            "1875/1875 [==============================] - 55s 29ms/step - loss: 0.2592 - accuracy: 0.9222\n",
            "Epoch 7/20\n",
            "1875/1875 [==============================] - 52s 28ms/step - loss: 0.2362 - accuracy: 0.9283\n",
            "Epoch 8/20\n",
            "1875/1875 [==============================] - 55s 29ms/step - loss: 0.2184 - accuracy: 0.9335\n",
            "Epoch 9/20\n",
            "1875/1875 [==============================] - 53s 28ms/step - loss: 0.2027 - accuracy: 0.9385\n",
            "Epoch 10/20\n",
            "1875/1875 [==============================] - 55s 29ms/step - loss: 0.1897 - accuracy: 0.9422\n",
            "Epoch 11/20\n",
            "1875/1875 [==============================] - 53s 28ms/step - loss: 0.1779 - accuracy: 0.9458\n",
            "Epoch 12/20\n",
            "1875/1875 [==============================] - 55s 29ms/step - loss: 0.1681 - accuracy: 0.9491\n",
            "Epoch 13/20\n",
            "1875/1875 [==============================] - 53s 28ms/step - loss: 0.1591 - accuracy: 0.9510\n",
            "Epoch 14/20\n",
            "1875/1875 [==============================] - 55s 30ms/step - loss: 0.1523 - accuracy: 0.9527\n",
            "Epoch 15/20\n",
            "1875/1875 [==============================] - 52s 28ms/step - loss: 0.1433 - accuracy: 0.9560\n",
            "Epoch 16/20\n",
            "1875/1875 [==============================] - 55s 29ms/step - loss: 0.1374 - accuracy: 0.9579\n",
            "Epoch 17/20\n",
            "1875/1875 [==============================] - 52s 28ms/step - loss: 0.1307 - accuracy: 0.9594\n",
            "Epoch 18/20\n",
            "1875/1875 [==============================] - 55s 29ms/step - loss: 0.1273 - accuracy: 0.9605\n",
            "Epoch 19/20\n",
            "1875/1875 [==============================] - 53s 28ms/step - loss: 0.1224 - accuracy: 0.9621\n",
            "Epoch 20/20\n",
            "1875/1875 [==============================] - 54s 29ms/step - loss: 0.1188 - accuracy: 0.9635\n",
            "313/313 [==============================] - 4s 12ms/step - loss: 0.1252 - accuracy: 0.9629\n",
            "0.1251782327890396\n",
            "0.9628999829292297\n"
          ]
        }
      ]
    },
    {
      "cell_type": "markdown",
      "source": [
        "### Running the program with image located in \"img_path\" and classifying whether it is a Nepali numeral and English numeral while also printing out it's probability."
      ],
      "metadata": {
        "id": "0mVodPdSGRHK"
      }
    },
    {
      "cell_type": "markdown",
      "source": [
        "#### Saving the model as Model_English"
      ],
      "metadata": {
        "id": "Qxjw7TV7HgyR"
      }
    },
    {
      "cell_type": "code",
      "source": [
        "model_english.save('Model_English')"
      ],
      "metadata": {
        "id": "IR3769YzHbs4"
      },
      "execution_count": null,
      "outputs": []
    },
    {
      "cell_type": "code",
      "source": [
        "from keras.utils.image_utils import img_to_array\n",
        "img_path = \"/content/digit4.png\" #change the img_path any image path in your environment. \n",
        "img = cv2.imread(\"{}\" .format(img_path))[:,:,0]\n",
        "\n",
        "img1 = cv2.imread(\"{}\".format(img_path))\n",
        "#img = np.invert(np.array([img]))\n",
        "img = np.invert(np.array([img]))\n",
        "img_array = tf.keras.utils.img_to_array(img1)\n",
        "img_array = tf.expand_dims(img_array, 0)\n",
        "prediction_from_Nepali = model_nepali.predict(img_array)\n",
        "prediction_from_English = model_english.predict(img)\n",
        "# print(prediction_from_English)\n",
        "# print(prediction_from_Nepali*100)\n",
        "Nepali_score = tf.nn.softmax(prediction_from_Nepali)\n",
        "English_score = tf.nn.softmax(prediction_from_English)\n",
        "#print(\"English Score: {}\" .format(English_score) )\n",
        "#print(\"Nepali Score: {}\" .format(Nepali_score))\n",
        "print(\"Highest probability from Nepali number digit {}'s probability is {}\".format(np.argmax(prediction_from_Nepali),np.max(prediction_from_Nepali)))\n",
        "print(\"Highest probability from English number digit {}'s probability is {}\".format(np.argmax(prediction_from_English), np.max(prediction_from_English)))\n",
        "if(np.max(prediction_from_Nepali)) > (np.max(prediction_from_English)):\n",
        "  print(\"This image most probably is of {} in Nepali\" .format(class_names[np.argmax(Nepali_score)]))\n",
        "else:\n",
        "  print(\"This image most probably is of {} in English\" .format(np.argmax(prediction_from_English)))\n",
        "cv2_imshow(img[0])\n"
      ],
      "metadata": {
        "colab": {
          "base_uri": "https://localhost:8080/",
          "height": 259
        },
        "id": "9NwzdsX0mBZp",
        "outputId": "37e71134-476c-4b8d-b47e-56c760d9bc74"
      },
      "execution_count": 71,
      "outputs": [
        {
          "output_type": "stream",
          "name": "stdout",
          "text": [
            "1/1 [==============================] - 0s 25ms/step\n",
            "1/1 [==============================] - 0s 82ms/step\n",
            "[[0. 0. 0. 0. 1. 0. 0. 0. 0. 0.]]\n",
            "[[1.6893544e-10 8.9389067e-07 1.6529867e-02 1.0696170e+00 7.2261391e+00\n",
            "  1.3767385e+00 9.0276627e+01 1.4128623e-04 8.1634221e-07 3.4213599e-02]]\n",
            "English Score: [[0.08533674 0.08533674 0.08533674 0.08533674 0.23196931 0.08533674\n",
            "  0.08533674 0.08533674 0.08533674 0.08533674]]\n",
            "Nepali Score: [[0.08645674 0.08645674 0.08647104 0.08738646 0.09293549 0.08765525\n",
            "  0.21323833 0.08645686 0.08645674 0.08648632]]\n",
            "digit 6's probability is 0.9027662873268127\n",
            "digit 4's probability is 1.0\n",
            "This image most probably is of 4 in English\n"
          ]
        },
        {
          "output_type": "display_data",
          "data": {
            "text/plain": [
              "<PIL.Image.Image image mode=L size=28x28 at 0x7FCA91824310>"
            ],
            "image/png": "[encoded data removed]"
          },
          "metadata": {}
        }
      ]
    }
  ]
}